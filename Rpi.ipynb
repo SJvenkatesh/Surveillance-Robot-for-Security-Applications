{
  "nbformat": 4,
  "nbformat_minor": 0,
  "metadata": {
    "colab": {
      "name": "Untitled2.ipynb",
      "provenance": [],
      "authorship_tag": "ABX9TyO04Ja0qkQgTUMRxl6ysHNI",
      "include_colab_link": true
    },
    "kernelspec": {
      "name": "python3",
      "display_name": "Python 3"
    },
    "language_info": {
      "name": "python"
    }
  },
  "cells": [
    {
      "cell_type": "markdown",
      "metadata": {
        "id": "view-in-github",
        "colab_type": "text"
      },
      "source": [
        "<a href=\"https://colab.research.google.com/github/SJvenkatesh/Surveillance-Robot-for-Security-Applications/blob/main/Rpi.ipynb\" target=\"_parent\"><img src=\"https://colab.research.google.com/assets/colab-badge.svg\" alt=\"Open In Colab\"/></a>"
      ]
    },
    {
      "cell_type": "code",
      "metadata": {
        "id": "G1EnxEXIeb9P"
      },
      "source": [
        "from flask import Flask\n",
        "from flask import render_template, request\n",
        "import RPi.GPIO as GPIO\n",
        "import time\n",
        "\n",
        "app = Flask(__name__)\n",
        "\n",
        "m11=18\n",
        "m12=23\n",
        "m21=24\n",
        "m22=25\n",
        "\n",
        "GPIO.setwarnings(False)\n",
        "GPIO.setmode(GPIO.BCM)\n",
        "GPIO.setup(m11, GPIO.OUT)\n",
        "GPIO.setup(m12, GPIO.OUT)\n",
        "GPIO.setup(m21, GPIO.OUT)\n",
        "GPIO.setup(m22, GPIO.OUT)\n",
        "GPIO.output(m11 , 0)\n",
        "GPIO.output(m12 , 0)\n",
        "GPIO.output(m21, 0)\n",
        "GPIO.output(m22, 0)\n",
        "print(\"Done\")\n",
        "\n",
        "a=1\n",
        "@app.route(\"/\")\n",
        "def index():\n",
        "    return render_template('robot.html')\n",
        "\n",
        "@app.route('/left_side')\n",
        "def left_side():\n",
        "    data1=\"LEFT\"\n",
        "    GPIO.output(m11 , 0)\n",
        "    GPIO.output(m12 , 0)\n",
        "    GPIO.output(m21 , 1)\n",
        "    GPIO.output(m22 , 0)\n",
        "    return 'true'\n",
        "\n",
        "@app.route('/right_side')\n",
        "def right_side():\n",
        "   data1=\"RIGHT\"\n",
        "   GPIO.output(m11 , 1)\n",
        "   GPIO.output(m12 , 0)\n",
        "   GPIO.output(m21 , 0)\n",
        "   GPIO.output(m22 , 0)\n",
        "   return 'true'\n",
        "\n",
        "@app.route('/up_side')\n",
        "def up_side():\n",
        "   data1=\"FORWARD\"\n",
        "   GPIO.output(m11 , 1)\n",
        "   GPIO.output(m12 , 0)\n",
        "   GPIO.output(m21 , 1)\n",
        "   GPIO.output(m22 , 0)\n",
        "   return 'true'\n",
        "\n",
        "@app.route('/down_side')\n",
        "def down_side():\n",
        "   data1=\"BACK\"\n",
        "   GPIO.output(m11 , 0)\n",
        "   GPIO.output(m12 , 1)\n",
        "   GPIO.output(m21 , 0)\n",
        "   GPIO.output(m22 , 1)\n",
        "   return 'true'\n",
        "\n",
        "@app.route('/stop')\n",
        "def stop():\n",
        "   data1=\"STOP\"\n",
        "   GPIO.output(m11 , 0)\n",
        "   GPIO.output(m12 , 0)\n",
        "   GPIO.output(m21 , 0)\n",
        "   GPIO.output(m22 , 0)\n",
        "   return  'true'\n",
        "\n",
        "if __name__ == \"__main__\":\n",
        " print(\"Start\")\n",
        " app.run(host='0.0.0.0',port=5010)"
      ],
      "execution_count": null,
      "outputs": []
    }
  ]
}